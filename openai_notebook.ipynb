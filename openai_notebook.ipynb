{
 "cells": [
  {
   "cell_type": "code",
   "execution_count": 1,
   "id": "5757375d",
   "metadata": {},
   "outputs": [],
   "source": [
    "import os\n",
    "import pandas as pd\n",
    "from pydantic import SecretStr\n",
    "\n",
    "from langchain.docstore.document import Document\n",
    "from langchain.vectorstores import Chroma\n",
    "from langchain_openai import OpenAIEmbeddings, ChatOpenAI\n",
    "from langchain.chains import RetrievalQA\n",
    "\n",
    "from langchain.tools import tool, Tool\n",
    "from langchain.agents import initialize_agent\n",
    "from langchain.agents.agent_types import AgentType\n",
    "\n",
    "from langchain.prompts import PromptTemplate\n",
    "from langchain.chains.question_answering import load_qa_chain\n",
    "\n",
    "from environments import OPENAI_API_KEY\n",
    "from prompts.rentabilidad_agricola import agricola_custom_prompt\n"
   ]
  },
  {
   "cell_type": "code",
   "execution_count": 2,
   "id": "2aed766d",
   "metadata": {},
   "outputs": [],
   "source": [
    "if not OPENAI_API_KEY:\n",
    "    raise ValueError(\"OpenAI Key not found\")\n",
    "\n",
    "openai_api_secret = SecretStr(OPENAI_API_KEY)"
   ]
  },
  {
   "cell_type": "code",
   "execution_count": 3,
   "id": "32014e94",
   "metadata": {},
   "outputs": [
    {
     "name": "stderr",
     "output_type": "stream",
     "text": [
      "/tmp/ipykernel_160658/2525719845.py:28: LangChainDeprecationWarning: Since Chroma 0.4.x the manual persistence method is no longer supported as docs are automatically persisted.\n",
      "  vectorstore.persist()\n"
     ]
    }
   ],
   "source": [
    "df = pd.read_csv(\"docs/datos_agricolas_3000_registros.csv\")\n",
    "df[\"Fecha\"] = pd.to_datetime(df[\"Fecha\"])\n",
    "\n",
    "documentos = []\n",
    "for _, row in df.iterrows():\n",
    "    texto = f\"\"\"\n",
    "    Fecha: {row['Fecha']}, Temporada: {row['Temporada']}, Cultivo: {row['Cultivo']}, Parcela: {row['Parcela']},\n",
    "    Fase Productiva: {row['Fase Productiva']}, Cantidad (kg): {row['Cantidad (kg)']}, Precio por kg: {row['Precio por kg']},\n",
    "    Ingresos: {row['Ingresos generados']}, Costos: {row['Costo Total']}, Rentabilidad: {row['Rentabilidad']},\n",
    "    Clima: {row['Clima']}, Demanda de Mercado: {row['Demanda de Mercado']},\n",
    "    Proyección Precio Temporada Siguiente: {row['Proyección Precio Temporada Siguiente']},\n",
    "    Observaciones: {row['Observaciones']}, Línea Productiva: {row['Línea Productiva']}\n",
    "    \"\"\".strip()\n",
    "    documentos.append(texto)\n",
    "\n",
    "# Preparación de los documentos para el RAG\n",
    "docs = [Document(page_content=texto) for texto in documentos]\n",
    "\n",
    "# Vectorización de los documentos con OpenAI\n",
    "embeddings = OpenAIEmbeddings(openai_api_key=openai_api_secret.get_secret_value())\n",
    "\n",
    "persist_dir = \"./chroma_rentabilidad\"\n",
    "\n",
    "if os.path.exists(persist_dir) and os.path.isdir(persist_dir):\n",
    "    vectorstore = Chroma(persist_directory= persist_dir, embedding_function=embeddings)\n",
    "else:\n",
    "    vectorstore = Chroma.from_documents(docs, embeddings, persist_directory=persist_dir)\n",
    "    vectorstore.persist()\n",
    "\n",
    "vectorstore = Chroma.from_documents(docs, embeddings, persist_directory=\"./chroma_rentabilidad\")\n",
    "\n",
    "# Cargar vectorstore como retriever\n",
    "retriever = vectorstore.as_retriever(search_kwargs={\"k\": 10})"
   ]
  },
  {
   "cell_type": "code",
   "execution_count": 4,
   "id": "3230eb04",
   "metadata": {},
   "outputs": [],
   "source": [
    "# Crear chain de pregunta-respuesta\n",
    "qa_chain = RetrievalQA.from_chain_type(\n",
    "    llm=ChatOpenAI(model_name=\"gpt-4\"),\n",
    "    retriever=retriever,\n",
    "    return_source_documents=True\n",
    ")"
   ]
  },
  {
   "cell_type": "code",
   "execution_count": 5,
   "id": "6745cac0",
   "metadata": {},
   "outputs": [
    {
     "name": "stderr",
     "output_type": "stream",
     "text": [
      "/tmp/ipykernel_160658/1227950309.py:2: LangChainDeprecationWarning: The method `Chain.__call__` was deprecated in langchain 0.1.0 and will be removed in 1.0. Use :meth:`~invoke` instead.\n",
      "  respuesta = qa_chain(pregunta)\n"
     ]
    },
    {
     "data": {
      "text/plain": [
       "{'query': '¿Cual fue la rentabilidad más alta de la Parcela A en 2023?',\n",
       " 'result': 'La rentabilidad más alta de la Parcela A en 2023 fue de 399.54.',\n",
       " 'source_documents': [Document(metadata={}, page_content='Fecha: 2023-04-29 00:00:00, Temporada: 2023-Verano, Cultivo: Trigo, Parcela: Parcela A,\\n    Fase Productiva: Cosecha, Cantidad (kg): 982, Precio por kg: 0.83,\\n    Ingresos: 815.06, Costos: 494, Rentabilidad: 321.06,\\n    Clima: Lluvioso, Demanda de Mercado: Alta,\\n    Proyección Precio Temporada Siguiente: 0.95,\\n    Observaciones: Actividad de cosecha bajo clima lluvioso, relacionado con parcela Parcela A., Línea Productiva: Grano'),\n",
       "  Document(metadata={}, page_content='Fecha: 2023-04-29 00:00:00, Temporada: 2023-Verano, Cultivo: Trigo, Parcela: Parcela A,\\n    Fase Productiva: Cosecha, Cantidad (kg): 982, Precio por kg: 0.83,\\n    Ingresos: 815.06, Costos: 494, Rentabilidad: 321.06,\\n    Clima: Lluvioso, Demanda de Mercado: Alta,\\n    Proyección Precio Temporada Siguiente: 0.95,\\n    Observaciones: Actividad de cosecha bajo clima lluvioso, relacionado con parcela Parcela A., Línea Productiva: Grano'),\n",
       "  Document(metadata={}, page_content='Fecha: 2023-05-07 00:00:00, Temporada: 2023-Verano, Cultivo: Trigo, Parcela: Parcela A,\\n    Fase Productiva: Mantenimiento, Cantidad (kg): 0, Precio por kg: 0.0,\\n    Ingresos: 0.0, Costos: 334, Rentabilidad: -334.0,\\n    Clima: Lluvioso, Demanda de Mercado: Alta,\\n    Proyección Precio Temporada Siguiente: 0.95,\\n    Observaciones: Actividad de mantenimiento bajo clima lluvioso, relacionado con parcela Parcela A., Línea Productiva: Grano'),\n",
       "  Document(metadata={}, page_content='Fecha: 2023-05-07 00:00:00, Temporada: 2023-Verano, Cultivo: Trigo, Parcela: Parcela A,\\n    Fase Productiva: Mantenimiento, Cantidad (kg): 0, Precio por kg: 0.0,\\n    Ingresos: 0.0, Costos: 334, Rentabilidad: -334.0,\\n    Clima: Lluvioso, Demanda de Mercado: Alta,\\n    Proyección Precio Temporada Siguiente: 0.95,\\n    Observaciones: Actividad de mantenimiento bajo clima lluvioso, relacionado con parcela Parcela A., Línea Productiva: Grano'),\n",
       "  Document(metadata={}, page_content='Fecha: 2023-04-05 00:00:00, Temporada: 2023-Verano, Cultivo: Trigo, Parcela: Parcela A,\\n    Fase Productiva: Cosecha, Cantidad (kg): 743, Precio por kg: 0.78,\\n    Ingresos: 579.54, Costos: 180, Rentabilidad: 399.54,\\n    Clima: Soleado, Demanda de Mercado: Alta,\\n    Proyección Precio Temporada Siguiente: 0.95,\\n    Observaciones: Actividad de cosecha bajo clima soleado, relacionado con parcela Parcela A., Línea Productiva: Grano'),\n",
       "  Document(metadata={}, page_content='Fecha: 2023-04-05 00:00:00, Temporada: 2023-Verano, Cultivo: Trigo, Parcela: Parcela A,\\n    Fase Productiva: Cosecha, Cantidad (kg): 743, Precio por kg: 0.78,\\n    Ingresos: 579.54, Costos: 180, Rentabilidad: 399.54,\\n    Clima: Soleado, Demanda de Mercado: Alta,\\n    Proyección Precio Temporada Siguiente: 0.95,\\n    Observaciones: Actividad de cosecha bajo clima soleado, relacionado con parcela Parcela A., Línea Productiva: Grano'),\n",
       "  Document(metadata={}, page_content='Fecha: 2023-03-23 00:00:00, Temporada: 2023-Verano, Cultivo: Trigo, Parcela: Parcela A,\\n    Fase Productiva: Mantenimiento, Cantidad (kg): 0, Precio por kg: 0.0,\\n    Ingresos: 0.0, Costos: 416, Rentabilidad: -416.0,\\n    Clima: Soleado, Demanda de Mercado: Media,\\n    Proyección Precio Temporada Siguiente: 0.95,\\n    Observaciones: Actividad de mantenimiento bajo clima soleado, relacionado con parcela Parcela A., Línea Productiva: Grano'),\n",
       "  Document(metadata={}, page_content='Fecha: 2023-03-23 00:00:00, Temporada: 2023-Verano, Cultivo: Trigo, Parcela: Parcela A,\\n    Fase Productiva: Mantenimiento, Cantidad (kg): 0, Precio por kg: 0.0,\\n    Ingresos: 0.0, Costos: 416, Rentabilidad: -416.0,\\n    Clima: Soleado, Demanda de Mercado: Media,\\n    Proyección Precio Temporada Siguiente: 0.95,\\n    Observaciones: Actividad de mantenimiento bajo clima soleado, relacionado con parcela Parcela A., Línea Productiva: Grano'),\n",
       "  Document(metadata={}, page_content='Fecha: 2023-01-07 00:00:00, Temporada: 2023-Verano, Cultivo: Trigo, Parcela: Parcela A,\\n    Fase Productiva: Cosecha, Cantidad (kg): 608, Precio por kg: 1.05,\\n    Ingresos: 638.4, Costos: 458, Rentabilidad: 180.4,\\n    Clima: Soleado, Demanda de Mercado: Alta,\\n    Proyección Precio Temporada Siguiente: 0.95,\\n    Observaciones: Actividad de cosecha bajo clima soleado, relacionado con parcela Parcela A., Línea Productiva: Grano'),\n",
       "  Document(metadata={}, page_content='Fecha: 2023-01-07 00:00:00, Temporada: 2023-Verano, Cultivo: Trigo, Parcela: Parcela A,\\n    Fase Productiva: Cosecha, Cantidad (kg): 608, Precio por kg: 1.05,\\n    Ingresos: 638.4, Costos: 458, Rentabilidad: 180.4,\\n    Clima: Soleado, Demanda de Mercado: Alta,\\n    Proyección Precio Temporada Siguiente: 0.95,\\n    Observaciones: Actividad de cosecha bajo clima soleado, relacionado con parcela Parcela A., Línea Productiva: Grano')]}"
      ]
     },
     "execution_count": 5,
     "metadata": {},
     "output_type": "execute_result"
    }
   ],
   "source": [
    "pregunta = \"¿Cual fue la rentabilidad más alta de la Parcela A en 2023?\"\n",
    "respuesta = qa_chain(pregunta)\n",
    "respuesta"
   ]
  },
  {
   "cell_type": "code",
   "execution_count": 6,
   "id": "92c4d60c",
   "metadata": {},
   "outputs": [
    {
     "data": {
      "text/plain": [
       "{'query': '¿Cual fue la parcela de mayor ingresos en el 2023?',\n",
       " 'result': 'La parcela de mayor ingresos en el 2023 fue la Parcela D con ingresos de 486.39.',\n",
       " 'source_documents': [Document(metadata={}, page_content='Fecha: 2023-04-06 00:00:00, Temporada: 2023-Verano, Cultivo: Maíz, Parcela: Parcela D,\\n    Fase Productiva: Cosecha, Cantidad (kg): 523, Precio por kg: 0.93,\\n    Ingresos: 486.39, Costos: 310, Rentabilidad: 176.39,\\n    Clima: Soleado, Demanda de Mercado: Media,\\n    Proyección Precio Temporada Siguiente: 0.85,\\n    Observaciones: Actividad de cosecha bajo clima soleado, relacionado con parcela Parcela D., Línea Productiva: Grano'),\n",
       "  Document(metadata={}, page_content='Fecha: 2023-04-06 00:00:00, Temporada: 2023-Verano, Cultivo: Maíz, Parcela: Parcela D,\\n    Fase Productiva: Cosecha, Cantidad (kg): 523, Precio por kg: 0.93,\\n    Ingresos: 486.39, Costos: 310, Rentabilidad: 176.39,\\n    Clima: Soleado, Demanda de Mercado: Media,\\n    Proyección Precio Temporada Siguiente: 0.85,\\n    Observaciones: Actividad de cosecha bajo clima soleado, relacionado con parcela Parcela D., Línea Productiva: Grano'),\n",
       "  Document(metadata={}, page_content='Fecha: 2023-02-23 00:00:00, Temporada: 2023-Verano, Cultivo: Maíz, Parcela: Parcela A,\\n    Fase Productiva: Cosecha, Cantidad (kg): 373, Precio por kg: 0.88,\\n    Ingresos: 328.24, Costos: 190, Rentabilidad: 138.24,\\n    Clima: Soleado, Demanda de Mercado: Baja,\\n    Proyección Precio Temporada Siguiente: 0.85,\\n    Observaciones: Actividad de cosecha bajo clima soleado, relacionado con parcela Parcela A., Línea Productiva: Grano'),\n",
       "  Document(metadata={}, page_content='Fecha: 2023-02-23 00:00:00, Temporada: 2023-Verano, Cultivo: Maíz, Parcela: Parcela A,\\n    Fase Productiva: Cosecha, Cantidad (kg): 373, Precio por kg: 0.88,\\n    Ingresos: 328.24, Costos: 190, Rentabilidad: 138.24,\\n    Clima: Soleado, Demanda de Mercado: Baja,\\n    Proyección Precio Temporada Siguiente: 0.85,\\n    Observaciones: Actividad de cosecha bajo clima soleado, relacionado con parcela Parcela A., Línea Productiva: Grano'),\n",
       "  Document(metadata={}, page_content='Fecha: 2023-03-07 00:00:00, Temporada: 2023-Verano, Cultivo: Maíz, Parcela: Parcela A,\\n    Fase Productiva: Cosecha, Cantidad (kg): 560, Precio por kg: 0.83,\\n    Ingresos: 464.8, Costos: 483, Rentabilidad: -18.2,\\n    Clima: Lluvioso, Demanda de Mercado: Media,\\n    Proyección Precio Temporada Siguiente: 0.85,\\n    Observaciones: Actividad de cosecha bajo clima lluvioso, relacionado con parcela Parcela A., Línea Productiva: Grano'),\n",
       "  Document(metadata={}, page_content='Fecha: 2023-03-07 00:00:00, Temporada: 2023-Verano, Cultivo: Maíz, Parcela: Parcela A,\\n    Fase Productiva: Cosecha, Cantidad (kg): 560, Precio por kg: 0.83,\\n    Ingresos: 464.8, Costos: 483, Rentabilidad: -18.2,\\n    Clima: Lluvioso, Demanda de Mercado: Media,\\n    Proyección Precio Temporada Siguiente: 0.85,\\n    Observaciones: Actividad de cosecha bajo clima lluvioso, relacionado con parcela Parcela A., Línea Productiva: Grano'),\n",
       "  Document(metadata={}, page_content='Fecha: 2023-02-02 00:00:00, Temporada: 2023-Verano, Cultivo: Maíz, Parcela: Parcela B,\\n    Fase Productiva: Cosecha, Cantidad (kg): 313, Precio por kg: 0.83,\\n    Ingresos: 259.79, Costos: 300, Rentabilidad: -40.21,\\n    Clima: Lluvioso, Demanda de Mercado: Baja,\\n    Proyección Precio Temporada Siguiente: 0.85,\\n    Observaciones: Actividad de cosecha bajo clima lluvioso, relacionado con parcela Parcela B., Línea Productiva: Grano'),\n",
       "  Document(metadata={}, page_content='Fecha: 2023-02-02 00:00:00, Temporada: 2023-Verano, Cultivo: Maíz, Parcela: Parcela B,\\n    Fase Productiva: Cosecha, Cantidad (kg): 313, Precio por kg: 0.83,\\n    Ingresos: 259.79, Costos: 300, Rentabilidad: -40.21,\\n    Clima: Lluvioso, Demanda de Mercado: Baja,\\n    Proyección Precio Temporada Siguiente: 0.85,\\n    Observaciones: Actividad de cosecha bajo clima lluvioso, relacionado con parcela Parcela B., Línea Productiva: Grano'),\n",
       "  Document(metadata={}, page_content='Fecha: 2023-03-19 00:00:00, Temporada: 2023-Verano, Cultivo: Maíz, Parcela: Parcela B,\\n    Fase Productiva: Cosecha, Cantidad (kg): 397, Precio por kg: 0.81,\\n    Ingresos: 321.57, Costos: 253, Rentabilidad: 68.57,\\n    Clima: Soleado, Demanda de Mercado: Alta,\\n    Proyección Precio Temporada Siguiente: 0.85,\\n    Observaciones: Actividad de cosecha bajo clima soleado, relacionado con parcela Parcela B., Línea Productiva: Grano'),\n",
       "  Document(metadata={}, page_content='Fecha: 2023-03-19 00:00:00, Temporada: 2023-Verano, Cultivo: Maíz, Parcela: Parcela B,\\n    Fase Productiva: Cosecha, Cantidad (kg): 397, Precio por kg: 0.81,\\n    Ingresos: 321.57, Costos: 253, Rentabilidad: 68.57,\\n    Clima: Soleado, Demanda de Mercado: Alta,\\n    Proyección Precio Temporada Siguiente: 0.85,\\n    Observaciones: Actividad de cosecha bajo clima soleado, relacionado con parcela Parcela B., Línea Productiva: Grano')]}"
      ]
     },
     "execution_count": 6,
     "metadata": {},
     "output_type": "execute_result"
    }
   ],
   "source": [
    "pregunta = \"¿Cual fue la parcela de mayor ingresos en el 2023?\"\n",
    "respuesta = qa_chain(pregunta)\n",
    "respuesta"
   ]
  },
  {
   "cell_type": "code",
   "execution_count": 7,
   "id": "66058b6b",
   "metadata": {},
   "outputs": [
    {
     "data": {
      "text/plain": [
       "{'query': '¿Cuál fue la rentabilidad total de la Parcela A en 2023?',\n",
       " 'result': 'La rentabilidad total de la Parcela A en 2023 es la suma de las rentabilidades individuales. Según los datos proporcionados, las rentabilidades en 2023 fueron -334.0, -334.0, -416.0, -416.0, 321.06, 321.06, -421.0, -421.0, -179.0 y -179.0. Al sumar todos estos valores, obtenemos un total de -2858.88. Por lo tanto, la rentabilidad total de la Parcela A en 2023 fue de -2858.88.',\n",
       " 'source_documents': [Document(metadata={}, page_content='Fecha: 2023-05-07 00:00:00, Temporada: 2023-Verano, Cultivo: Trigo, Parcela: Parcela A,\\n    Fase Productiva: Mantenimiento, Cantidad (kg): 0, Precio por kg: 0.0,\\n    Ingresos: 0.0, Costos: 334, Rentabilidad: -334.0,\\n    Clima: Lluvioso, Demanda de Mercado: Alta,\\n    Proyección Precio Temporada Siguiente: 0.95,\\n    Observaciones: Actividad de mantenimiento bajo clima lluvioso, relacionado con parcela Parcela A., Línea Productiva: Grano'),\n",
       "  Document(metadata={}, page_content='Fecha: 2023-05-07 00:00:00, Temporada: 2023-Verano, Cultivo: Trigo, Parcela: Parcela A,\\n    Fase Productiva: Mantenimiento, Cantidad (kg): 0, Precio por kg: 0.0,\\n    Ingresos: 0.0, Costos: 334, Rentabilidad: -334.0,\\n    Clima: Lluvioso, Demanda de Mercado: Alta,\\n    Proyección Precio Temporada Siguiente: 0.95,\\n    Observaciones: Actividad de mantenimiento bajo clima lluvioso, relacionado con parcela Parcela A., Línea Productiva: Grano'),\n",
       "  Document(metadata={}, page_content='Fecha: 2023-03-23 00:00:00, Temporada: 2023-Verano, Cultivo: Trigo, Parcela: Parcela A,\\n    Fase Productiva: Mantenimiento, Cantidad (kg): 0, Precio por kg: 0.0,\\n    Ingresos: 0.0, Costos: 416, Rentabilidad: -416.0,\\n    Clima: Soleado, Demanda de Mercado: Media,\\n    Proyección Precio Temporada Siguiente: 0.95,\\n    Observaciones: Actividad de mantenimiento bajo clima soleado, relacionado con parcela Parcela A., Línea Productiva: Grano'),\n",
       "  Document(metadata={}, page_content='Fecha: 2023-03-23 00:00:00, Temporada: 2023-Verano, Cultivo: Trigo, Parcela: Parcela A,\\n    Fase Productiva: Mantenimiento, Cantidad (kg): 0, Precio por kg: 0.0,\\n    Ingresos: 0.0, Costos: 416, Rentabilidad: -416.0,\\n    Clima: Soleado, Demanda de Mercado: Media,\\n    Proyección Precio Temporada Siguiente: 0.95,\\n    Observaciones: Actividad de mantenimiento bajo clima soleado, relacionado con parcela Parcela A., Línea Productiva: Grano'),\n",
       "  Document(metadata={}, page_content='Fecha: 2023-04-29 00:00:00, Temporada: 2023-Verano, Cultivo: Trigo, Parcela: Parcela A,\\n    Fase Productiva: Cosecha, Cantidad (kg): 982, Precio por kg: 0.83,\\n    Ingresos: 815.06, Costos: 494, Rentabilidad: 321.06,\\n    Clima: Lluvioso, Demanda de Mercado: Alta,\\n    Proyección Precio Temporada Siguiente: 0.95,\\n    Observaciones: Actividad de cosecha bajo clima lluvioso, relacionado con parcela Parcela A., Línea Productiva: Grano'),\n",
       "  Document(metadata={}, page_content='Fecha: 2023-04-29 00:00:00, Temporada: 2023-Verano, Cultivo: Trigo, Parcela: Parcela A,\\n    Fase Productiva: Cosecha, Cantidad (kg): 982, Precio por kg: 0.83,\\n    Ingresos: 815.06, Costos: 494, Rentabilidad: 321.06,\\n    Clima: Lluvioso, Demanda de Mercado: Alta,\\n    Proyección Precio Temporada Siguiente: 0.95,\\n    Observaciones: Actividad de cosecha bajo clima lluvioso, relacionado con parcela Parcela A., Línea Productiva: Grano'),\n",
       "  Document(metadata={}, page_content='Fecha: 2023-02-03 00:00:00, Temporada: 2023-Verano, Cultivo: Trigo, Parcela: Parcela A,\\n    Fase Productiva: Mantenimiento, Cantidad (kg): 0, Precio por kg: 0.0,\\n    Ingresos: 0.0, Costos: 421, Rentabilidad: -421.0,\\n    Clima: Soleado, Demanda de Mercado: Baja,\\n    Proyección Precio Temporada Siguiente: 0.95,\\n    Observaciones: Actividad de mantenimiento bajo clima soleado, relacionado con parcela Parcela A., Línea Productiva: Grano'),\n",
       "  Document(metadata={}, page_content='Fecha: 2023-02-03 00:00:00, Temporada: 2023-Verano, Cultivo: Trigo, Parcela: Parcela A,\\n    Fase Productiva: Mantenimiento, Cantidad (kg): 0, Precio por kg: 0.0,\\n    Ingresos: 0.0, Costos: 421, Rentabilidad: -421.0,\\n    Clima: Soleado, Demanda de Mercado: Baja,\\n    Proyección Precio Temporada Siguiente: 0.95,\\n    Observaciones: Actividad de mantenimiento bajo clima soleado, relacionado con parcela Parcela A., Línea Productiva: Grano'),\n",
       "  Document(metadata={}, page_content='Fecha: 2023-06-11 00:00:00, Temporada: 2023-Verano, Cultivo: Trigo, Parcela: Parcela A,\\n    Fase Productiva: Mantenimiento, Cantidad (kg): 0, Precio por kg: 0.0,\\n    Ingresos: 0.0, Costos: 179, Rentabilidad: -179.0,\\n    Clima: Lluvioso, Demanda de Mercado: Media,\\n    Proyección Precio Temporada Siguiente: 0.95,\\n    Observaciones: Actividad de mantenimiento bajo clima lluvioso, relacionado con parcela Parcela A., Línea Productiva: Grano'),\n",
       "  Document(metadata={}, page_content='Fecha: 2023-06-11 00:00:00, Temporada: 2023-Verano, Cultivo: Trigo, Parcela: Parcela A,\\n    Fase Productiva: Mantenimiento, Cantidad (kg): 0, Precio por kg: 0.0,\\n    Ingresos: 0.0, Costos: 179, Rentabilidad: -179.0,\\n    Clima: Lluvioso, Demanda de Mercado: Media,\\n    Proyección Precio Temporada Siguiente: 0.95,\\n    Observaciones: Actividad de mantenimiento bajo clima lluvioso, relacionado con parcela Parcela A., Línea Productiva: Grano')]}"
      ]
     },
     "execution_count": 7,
     "metadata": {},
     "output_type": "execute_result"
    }
   ],
   "source": [
    "pregunta = \"¿Cuál fue la rentabilidad total de la Parcela A en 2023?\"\n",
    "respuesta = qa_chain(pregunta)\n",
    "respuesta"
   ]
  },
  {
   "cell_type": "markdown",
   "id": "13b6825c",
   "metadata": {},
   "source": [
    "# Incorporación de Tools"
   ]
  },
  {
   "cell_type": "code",
   "execution_count": 8,
   "metadata": {},
   "outputs": [
    {
     "name": "stderr",
     "output_type": "stream",
     "text": [
      "/tmp/ipykernel_160658/490990612.py:27: LangChainDeprecationWarning: LangChain agents will continue to be supported, but it is recommended for new use cases to be built with LangGraph. LangGraph offers a more flexible and full-featured framework for building agents, including support for tool-calling, persistence of state, and human-in-the-loop workflows. For details, refer to the `LangGraph documentation <https://langchain-ai.github.io/langgraph/>`_ as well as guides for `Migrating from AgentExecutor <https://python.langchain.com/docs/how_to/migrate_agent/>`_ and LangGraph's `Pre-built ReAct agent <https://langchain-ai.github.io/langgraph/how-tos/create-react-agent/>`_.\n",
      "  agent = initialize_agent(\n"
     ]
    }
   ],
   "source": [
    "llm = ChatOpenAI(model_name=\"gpt-4\", temperature=0)\n",
    "\n",
    "# Tool: Rentabilidad por parcela\n",
    "@tool\n",
    "def rentabilidad_por_parcela(parcela: str, anio: int) -> str:\n",
    "    \"\"\"Calcula la rentabilidad total de una parcela en un año específico.\"\"\"\n",
    "    df = pd.read_csv(\"docs/datos_agricolas_3000_registros.csv\")\n",
    "    df[\"Fecha\"] = pd.to_datetime(df[\"Fecha\"])\n",
    "    \n",
    "    # Normalizar nombre de parcela si es \"A\" → \"Parcela A\"\n",
    "    if not parcela.lower().startswith(\"parcela\"):\n",
    "        parcela = f\"Parcela {parcela.upper()}\"\n",
    "\n",
    "    df_filtrado = df[(df[\"Parcela\"] == parcela) & (df[\"Fecha\"].dt.year == anio)]\n",
    "    total = df_filtrado[\"Rentabilidad\"].sum()\n",
    "    return f\"La rentabilidad total de la parcela {parcela} en {anio} fue de {total:.2f}\"\n",
    "\n",
    "# Tool: RAG como herramienta semántica\n",
    "retriever_tool = Tool(\n",
    "    name=\"consultar_datos_agricolas\",\n",
    "    func=qa_chain.invoke,\n",
    "    description=\"Usa esto para buscar información general del cultivo, clima, observaciones o condiciones de mercado.\"\n",
    ")\n",
    "\n",
    "# Inicializar agente con ambas tools\n",
    "tools = [rentabilidad_por_parcela, retriever_tool]\n",
    "agent = initialize_agent(\n",
    "    tools=tools,\n",
    "    llm=llm,\n",
    "    agent=AgentType.OPENAI_FUNCTIONS,\n",
    "    verbose=True\n",
    ")"
   ]
  },
  {
   "cell_type": "code",
   "execution_count": 9,
   "id": "89044a74",
   "metadata": {},
   "outputs": [
    {
     "name": "stdout",
     "output_type": "stream",
     "text": [
      "\n",
      "\n",
      "\u001b[1m> Entering new AgentExecutor chain...\u001b[0m\n",
      "\u001b[32;1m\u001b[1;3m\n",
      "Invoking: `rentabilidad_por_parcela` with `{'parcela': 'Parcela A', 'anio': 2023}`\n",
      "\n",
      "\n",
      "\u001b[0m\u001b[36;1m\u001b[1;3mLa rentabilidad total de la parcela Parcela A en 2023 fue de 6776.89\u001b[0m\u001b[32;1m\u001b[1;3mLa rentabilidad total de la Parcela A en 2023 fue de 6776.89.\u001b[0m\n",
      "\n",
      "\u001b[1m> Finished chain.\u001b[0m\n",
      "Pregunta: ¿Cuál fue la rentabilidad total de la Parcela A en 2023?\n",
      "Respuesta: {'input': '¿Cuál fue la rentabilidad total de la Parcela A en 2023?', 'output': 'La rentabilidad total de la Parcela A en 2023 fue de 6776.89.'}\n"
     ]
    }
   ],
   "source": [
    "# Probar una pregunta\n",
    "pregunta = \"¿Cuál fue la rentabilidad total de la Parcela A en 2023?\"\n",
    "respuesta = agent.invoke(pregunta)\n",
    "\n",
    "# Mostrar la respuesta\n",
    "print(\"Pregunta:\", pregunta)\n",
    "print(\"Respuesta:\", respuesta)\n"
   ]
  },
  {
   "cell_type": "code",
   "execution_count": 10,
   "id": "531687d0",
   "metadata": {},
   "outputs": [
    {
     "name": "stdout",
     "output_type": "stream",
     "text": [
      "\n",
      "\n",
      "\u001b[1m> Entering new AgentExecutor chain...\u001b[0m\n",
      "\u001b[32;1m\u001b[1;3m\n",
      "Invoking: `rentabilidad_por_parcela` with `{'parcela': 'A', 'anio': 2023}`\n",
      "\n",
      "\n",
      "\u001b[0m\u001b[36;1m\u001b[1;3mLa rentabilidad total de la parcela Parcela A en 2023 fue de 6776.89\u001b[0m\u001b[32;1m\u001b[1;3m\n",
      "Invoking: `rentabilidad_por_parcela` with `{'parcela': 'B', 'anio': 2023}`\n",
      "\n",
      "\n",
      "\u001b[0m\u001b[36;1m\u001b[1;3mLa rentabilidad total de la parcela Parcela B en 2023 fue de -14034.90\u001b[0m\u001b[32;1m\u001b[1;3m\n",
      "Invoking: `rentabilidad_por_parcela` with `{'parcela': 'C', 'anio': 2023}`\n",
      "\n",
      "\n",
      "\u001b[0m\u001b[36;1m\u001b[1;3mLa rentabilidad total de la parcela Parcela C en 2023 fue de 34361.80\u001b[0m\u001b[32;1m\u001b[1;3mLa parcela más rentable en 2023 fue la Parcela C con una rentabilidad total de 34361.80.\u001b[0m\n",
      "\n",
      "\u001b[1m> Finished chain.\u001b[0m\n",
      "Pregunta: ¿Cuál fue la parcela más rentable en 2023?\n",
      "Respuesta: {'input': '¿Cuál fue la parcela más rentable en 2023?', 'output': 'La parcela más rentable en 2023 fue la Parcela C con una rentabilidad total de 34361.80.'}\n"
     ]
    }
   ],
   "source": [
    "# Probar una pregunta\n",
    "pregunta = \"¿Cuál fue la parcela más rentable en 2023?\"\n",
    "respuesta = agent.invoke(pregunta)\n",
    "\n",
    "# Mostrar la respuesta\n",
    "print(\"Pregunta:\", pregunta)\n",
    "print(\"Respuesta:\", respuesta)\n"
   ]
  },
  {
   "cell_type": "markdown",
   "id": "539d2340",
   "metadata": {},
   "source": [
    "# Composición del Prompt con MarkDown"
   ]
  },
  {
   "cell_type": "code",
   "execution_count": 11,
   "id": "98bb998c",
   "metadata": {},
   "outputs": [],
   "source": [
    "# Define custom prompt template for QA\n",
    "qa_template = \"\"\"\n",
    "Basado en el siguiente contexto, responde a la pregunta de manera precisa:\n",
    "\n",
    "Contexto:\n",
    "{context}\n",
    "\n",
    "Pregunta:\n",
    "{question}\n",
    "\n",
    "Respuesta:\n",
    "\"\"\"\n",
    "\n",
    "qa_prompt = PromptTemplate(\n",
    "    template=qa_template,\n",
    "    input_variables=[\"context\", \"question\"]\n",
    ")\n",
    "\n",
    "# Tool: Rentabilidad por parcela\n",
    "@tool\n",
    "def rentabilidad_por_parcela(parcela: str, anio: int) -> str:\n",
    "    \"\"\"Calcula la rentabilidad total de una parcela en un año específico.\"\"\"\n",
    "    df = pd.read_csv(\"docs/datos_agricolas_3000_registros.csv\")\n",
    "    df[\"Fecha\"] = pd.to_datetime(df[\"Fecha\"])\n",
    "    \n",
    "    # Normalizar nombre de parcela si es \"A\" → \"Parcela A\"\n",
    "    if not parcela.lower().startswith(\"parcela\"):\n",
    "        parcela = f\"Parcela {parcela.upper()}\"\n",
    "\n",
    "    df_filtrado = df[(df[\"Parcela\"] == parcela) & (df[\"Fecha\"].dt.year == anio)]\n",
    "    \n",
    "    if df_filtrado.empty:\n",
    "        return f\"No se encontraron datos para la parcela {parcela} en el año {anio}.\"\n",
    "    \n",
    "    total = df_filtrado[\"Rentabilidad\"].sum()\n",
    "    return f\"La rentabilidad total de la parcela {parcela} en {anio} fue de ${total:.2f}\"\n",
    "\n",
    "@tool\n",
    "def porcentaje_costos_por_fase() -> str:\n",
    "    \"\"\"\n",
    "    Retorna un análisis porcentual de los costos según las fases productivas.\n",
    "    \"\"\"\n",
    "    df = pd.read_csv(\"docs/datos_agricolas_3000_registros.csv\")\n",
    "    \n",
    "    # Agrupar por fase productiva y sumar costos\n",
    "    costos_por_fase = df.groupby(\"Fase Productiva\")[\"Costo Total\"].sum()\n",
    "    total_costos = costos_por_fase.sum()\n",
    "    \n",
    "    # Calcular porcentajes\n",
    "    porcentajes = (costos_por_fase / total_costos * 100).round(2)\n",
    "\n",
    "    # Formatear la respuesta\n",
    "    resultado = \"📊 Análisis porcentual de los costos por fase productiva:\\n\\n\"\n",
    "    for fase, porcentaje in porcentajes.items():\n",
    "        resultado += f\"• {fase}: {porcentaje:.2f}% del total de costos\\n\"\n",
    "\n",
    "    return resultado\n",
    "\n",
    "@tool\n",
    "def analisis_demanda_mercado() -> str:\n",
    "    \"\"\"\n",
    "    Realiza un análisis de la demanda de mercado mostrando la relación con la rentabilidad,\n",
    "    el precio promedio por kg y el volumen total en kg.\n",
    "    \"\"\"\n",
    "    df = pd.read_csv(\"docs/datos_agricolas_3000_registros.csv\")\n",
    "\n",
    "    # Filtrar datos válidos\n",
    "    df = df.dropna(subset=[\"Demanda de Mercado\", \"Rentabilidad\", \"Precio por kg\", \"Cantidad (kg)\"])\n",
    "\n",
    "    # Agrupar por nivel de demanda\n",
    "    resumen = df.groupby(\"Demanda de Mercado\").agg({\n",
    "        \"Rentabilidad\": \"mean\",\n",
    "        \"Precio por kg\": \"mean\",\n",
    "        \"Cantidad (kg)\": \"sum\"\n",
    "    }).round(2)\n",
    "\n",
    "    # Formatear el resultado\n",
    "    resultado = \"📈 Análisis de la demanda de mercado:\\n\\n\"\n",
    "    for demanda, row in resumen.iterrows():\n",
    "        resultado += (\n",
    "            f\"• Demanda **{demanda}**:\\n\"\n",
    "            f\"   - Rentabilidad promedio: ${row['Rentabilidad']:.2f}\\n\"\n",
    "            f\"   - Precio promedio por kg: ${row['Precio por kg']:.2f}\\n\"\n",
    "            f\"   - Volumen total: {int(row['Cantidad (kg)'])} kg\\n\\n\"\n",
    "        )\n",
    "\n",
    "    return resultado\n",
    "\n",
    "# Tool: RAG como herramienta semántica\n",
    "def consultar_datos_agricolas(query):\n",
    "    \"\"\"Usa esto para buscar información general del cultivo, clima, observaciones o condiciones de mercado.\"\"\"\n",
    "    result = qa_chain.invoke({\"query\": query})\n",
    "    # Extraer solo la respuesta sin los documentos de origen para la salida\n",
    "    return result['result']\n",
    "\n",
    "retriever_tool = Tool(\n",
    "    name=\"consultar_datos_agricolas\",\n",
    "    func=consultar_datos_agricolas,\n",
    "    description=\"Usa esto para buscar información general del cultivo, clima, observaciones o condiciones de mercado.\"\n",
    ")\n",
    "\n",
    "# Definir el template exacto que se proporcionó\n",
    "custom_markdown_template = agricola_custom_prompt\n",
    "\n",
    "# Inicializar agente con las herramientas y el template de markdown personalizado\n",
    "tools = [rentabilidad_por_parcela, retriever_tool, porcentaje_costos_por_fase, analisis_demanda_mercado]\n",
    "\n",
    "agent = initialize_agent(\n",
    "    tools=tools,\n",
    "    llm=llm,\n",
    "    agent=AgentType.OPENAI_FUNCTIONS,\n",
    "    verbose=True,\n",
    "    agent_kwargs={\n",
    "        \"system_message\": custom_markdown_template\n",
    "    }\n",
    ")\n",
    "\n"
   ]
  },
  {
   "cell_type": "code",
   "execution_count": 12,
   "id": "35d71c13",
   "metadata": {},
   "outputs": [
    {
     "name": "stdout",
     "output_type": "stream",
     "text": [
      "\n",
      "\n",
      "\u001b[1m> Entering new AgentExecutor chain...\u001b[0m\n",
      "\u001b[32;1m\u001b[1;3m\n",
      "Invoking: `rentabilidad_por_parcela` with `{'parcela': 'Parcela A', 'anio': 2023}`\n",
      "\n",
      "\n",
      "\u001b[0m\u001b[36;1m\u001b[1;3mLa rentabilidad total de la parcela Parcela A en 2023 fue de $6776.89\u001b[0m\u001b[32;1m\u001b[1;3m\n",
      "Invoking: `consultar_datos_agricolas` with `clima en 2023`\n",
      "\n",
      "\n",
      "\u001b[0m\u001b[33;1m\u001b[1;3mBased on the given context, we can see that there were two types of weather reported: rainy and sunny. However, without date-specific information, it's not possible to say what the weather was for the whole year of 2023.\u001b[0m\u001b[32;1m\u001b[1;3mLa rentabilidad total de la Parcela A en 2023 fue de $6776.89.\n",
      "\n",
      "En cuanto al clima de ese año, se reportaron dos tipos de condiciones climáticas: lluviosas y soleadas. Sin embargo, sin información específica de fechas, no es posible determinar cómo fue el clima durante todo el año 2023.\u001b[0m\n",
      "\n",
      "\u001b[1m> Finished chain.\u001b[0m\n",
      "Pregunta: ¿Cuál fue la parcela más rentable en 2023?\n",
      "Respuesta: {'input': '¿¿Cuál fue la rentabilidad total de la Parcela A en 2023? y cómo se comparó con el clima de ese año?', 'output': 'La rentabilidad total de la Parcela A en 2023 fue de $6776.89.\\n\\nEn cuanto al clima de ese año, se reportaron dos tipos de condiciones climáticas: lluviosas y soleadas. Sin embargo, sin información específica de fechas, no es posible determinar cómo fue el clima durante todo el año 2023.'}\n"
     ]
    }
   ],
   "source": [
    "pregunta_rentabilidad = \"¿Cuál fue la rentabilidad total de la Parcela A en 2023?\"\n",
    "respuesta = agent.invoke(f\"¿{pregunta_rentabilidad} y cómo se comparó con el clima de ese año?\")\n",
    "\n",
    "print(\"Pregunta:\", pregunta)\n",
    "print(\"Respuesta:\", respuesta)\n"
   ]
  },
  {
   "cell_type": "code",
   "execution_count": 13,
   "id": "fbb14527",
   "metadata": {},
   "outputs": [
    {
     "name": "stdout",
     "output_type": "stream",
     "text": [
      "\n",
      "\n",
      "\u001b[1m> Entering new AgentExecutor chain...\u001b[0m\n",
      "\u001b[32;1m\u001b[1;3mClaro, para poder ayudarte necesito que me proporciones la lista de las parcelas que quieres analizar y el año específico para el que necesitas la información.\u001b[0m\n",
      "\n",
      "\u001b[1m> Finished chain.\u001b[0m\n",
      "Pregunta: ¿Cuál fue la parcela más rentable en 2023?\n",
      "Respuesta: {'input': 'Quiero un análisis comparativo de la rentabilidad para cada una de las parcerlas', 'output': 'Claro, para poder ayudarte necesito que me proporciones la lista de las parcelas que quieres analizar y el año específico para el que necesitas la información.'}\n"
     ]
    }
   ],
   "source": [
    "pregunta_rentabilidad = \"Quiero un análisis comparativo de la rentabilidad para cada una de las parcerlas\"\n",
    "respuesta = agent.invoke(f\"{pregunta_rentabilidad}\")\n",
    "\n",
    "print(\"Pregunta:\", pregunta)\n",
    "print(\"Respuesta:\", respuesta)"
   ]
  },
  {
   "cell_type": "code",
   "execution_count": 14,
   "id": "f521325d",
   "metadata": {},
   "outputs": [
    {
     "name": "stdout",
     "output_type": "stream",
     "text": [
      "\n",
      "\n",
      "\u001b[1m> Entering new AgentExecutor chain...\u001b[0m\n",
      "\u001b[32;1m\u001b[1;3m\n",
      "Invoking: `porcentaje_costos_por_fase` with `{}`\n",
      "\n",
      "\n",
      "\u001b[0m\u001b[38;5;200m\u001b[1;3m📊 Análisis porcentual de los costos por fase productiva:\n",
      "\n",
      "• Cosecha: 32.86% del total de costos\n",
      "• Mantenimiento: 34.00% del total de costos\n",
      "• Siembra: 33.14% del total de costos\n",
      "\u001b[0m\u001b[32;1m\u001b[1;3mLa distribución de los costos entre las fases productivas es la siguiente:\n",
      "\n",
      "- La fase de **cosecha** representa el 32.86% del total de costos.\n",
      "- La fase de **mantenimiento** representa el 34.00% del total de costos.\n",
      "- La fase de **siembra** representa el 33.14% del total de costos.\n",
      "\n",
      "Esto significa que los costos están bastante equilibrados entre las tres fases, con un ligero predominio en la fase de mantenimiento.\u001b[0m\n",
      "\n",
      "\u001b[1m> Finished chain.\u001b[0m\n",
      "Pregunta: ¿Cuál fue la parcela más rentable en 2023?\n",
      "Respuesta: {'input': 'Cómo se distribuyen los costos entre las fases productivas?', 'output': 'La distribución de los costos entre las fases productivas es la siguiente:\\n\\n- La fase de **cosecha** representa el 32.86% del total de costos.\\n- La fase de **mantenimiento** representa el 34.00% del total de costos.\\n- La fase de **siembra** representa el 33.14% del total de costos.\\n\\nEsto significa que los costos están bastante equilibrados entre las tres fases, con un ligero predominio en la fase de mantenimiento.'}\n"
     ]
    }
   ],
   "source": [
    "pregunta_costos = \"Cómo se distribuyen los costos entre las fases productivas\"\n",
    "respuesta = agent.invoke(f\"{pregunta_costos}?\")\n",
    "\n",
    "print(\"Pregunta:\", pregunta)\n",
    "print(\"Respuesta:\", respuesta)"
   ]
  },
  {
   "cell_type": "code",
   "execution_count": 15,
   "id": "79573369",
   "metadata": {},
   "outputs": [
    {
     "name": "stdout",
     "output_type": "stream",
     "text": [
      "\n",
      "\n",
      "\u001b[1m> Entering new AgentExecutor chain...\u001b[0m\n",
      "\u001b[32;1m\u001b[1;3m\n",
      "Invoking: `analisis_demanda_mercado` with `{}`\n",
      "\n",
      "\n",
      "\u001b[0m\u001b[36;1m\u001b[1;3m📈 Análisis de la demanda de mercado:\n",
      "\n",
      "• Demanda **Alta**:\n",
      "   - Rentabilidad promedio: $15.95\n",
      "   - Precio promedio por kg: $0.61\n",
      "   - Volumen total: 198530 kg\n",
      "\n",
      "• Demanda **Baja**:\n",
      "   - Rentabilidad promedio: $-22.96\n",
      "   - Precio promedio por kg: $0.55\n",
      "   - Volumen total: 195705 kg\n",
      "\n",
      "• Demanda **Media**:\n",
      "   - Rentabilidad promedio: $36.86\n",
      "   - Precio promedio por kg: $0.60\n",
      "   - Volumen total: 191041 kg\n",
      "\n",
      "\u001b[0m\u001b[32;1m\u001b[1;3mAquí está el análisis de la demanda de mercado:\n",
      "\n",
      "- Cuando la demanda es **alta**:\n",
      "  - La rentabilidad promedio es de $15.95.\n",
      "  - El precio promedio por kg es de $0.61.\n",
      "  - El volumen total vendido es de 198,530 kg.\n",
      "\n",
      "- Cuando la demanda es **baja**:\n",
      "  - La rentabilidad promedio es de $-22.96, lo que indica una pérdida.\n",
      "  - El precio promedio por kg es de $0.55.\n",
      "  - El volumen total vendido es de 195,705 kg.\n",
      "\n",
      "- Cuando la demanda es **media**:\n",
      "  - La rentabilidad promedio es de $36.86.\n",
      "  - El precio promedio por kg es de $0.60.\n",
      "  - El volumen total vendido es de 191,041 kg.\n",
      "\n",
      "Estos datos pueden ayudarte a entender cómo la demanda del mercado afecta la rentabilidad y el volumen de ventas de tus productos.\u001b[0m\n",
      "\n",
      "\u001b[1m> Finished chain.\u001b[0m\n",
      "Pregunta: ¿Cuál fue la parcela más rentable en 2023?\n",
      "Respuesta: {'input': '¿Cuál fue el volumen vendido y la rentabilidad según el nivel de demanda??', 'output': 'Aquí está el análisis de la demanda de mercado:\\n\\n- Cuando la demanda es **alta**:\\n  - La rentabilidad promedio es de $15.95.\\n  - El precio promedio por kg es de $0.61.\\n  - El volumen total vendido es de 198,530 kg.\\n\\n- Cuando la demanda es **baja**:\\n  - La rentabilidad promedio es de $-22.96, lo que indica una pérdida.\\n  - El precio promedio por kg es de $0.55.\\n  - El volumen total vendido es de 195,705 kg.\\n\\n- Cuando la demanda es **media**:\\n  - La rentabilidad promedio es de $36.86.\\n  - El precio promedio por kg es de $0.60.\\n  - El volumen total vendido es de 191,041 kg.\\n\\nEstos datos pueden ayudarte a entender cómo la demanda del mercado afecta la rentabilidad y el volumen de ventas de tus productos.'}\n"
     ]
    }
   ],
   "source": [
    "pregunta_demanda = \"¿Cuál fue el volumen vendido y la rentabilidad según el nivel de demanda?\"\n",
    "respuesta = agent.invoke(f\"{pregunta_demanda}?\")\n",
    "\n",
    "print(\"Pregunta:\", pregunta)\n",
    "print(\"Respuesta:\", respuesta)"
   ]
  }
 ],
 "metadata": {
  "kernelspec": {
   "display_name": "venv",
   "language": "python",
   "name": "python3"
  },
  "language_info": {
   "codemirror_mode": {
    "name": "ipython",
    "version": 3
   },
   "file_extension": ".py",
   "mimetype": "text/x-python",
   "name": "python",
   "nbconvert_exporter": "python",
   "pygments_lexer": "ipython3",
   "version": "3.10.12"
  }
 },
 "nbformat": 4,
 "nbformat_minor": 5
}
