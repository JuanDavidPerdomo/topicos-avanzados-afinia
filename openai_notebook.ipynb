{
 "cells": [
  {
   "cell_type": "code",
   "execution_count": 1,
   "id": "5757375d",
   "metadata": {},
   "outputs": [],
   "source": [
    "import pandas as pd\n",
    "from pydantic import SecretStr\n",
    "\n",
    "from langchain.docstore.document import Document\n",
    "from langchain.vectorstores import Chroma\n",
    "from langchain_openai import OpenAIEmbeddings, ChatOpenAI\n",
    "from langchain.chains import RetrievalQA\n",
    "\n",
    "from langchain.tools import tool, Tool\n",
    "from langchain.agents import initialize_agent\n",
    "from langchain.agents.agent_types import AgentType\n",
    "\n",
    "from environments import OPENAI_API_KEY\n"
   ]
  },
  {
   "cell_type": "code",
   "execution_count": 2,
   "id": "2aed766d",
   "metadata": {},
   "outputs": [],
   "source": [
    "if not OPENAI_API_KEY:\n",
    "    raise ValueError(\"OpenAI Key not found\")\n",
    "\n",
    "openai_api_secret = SecretStr(OPENAI_API_KEY)"
   ]
  },
  {
   "cell_type": "code",
   "execution_count": 3,
   "id": "32014e94",
   "metadata": {},
   "outputs": [],
   "source": [
    "df = pd.read_csv(\"docs/datos_agricolas_3000_registros.csv\")\n",
    "df[\"Fecha\"] = pd.to_datetime(df[\"Fecha\"])\n",
    "\n",
    "documentos = []\n",
    "for _, row in df.iterrows():\n",
    "    texto = f\"\"\"\n",
    "    Fecha: {row['Fecha']}, Temporada: {row['Temporada']}, Cultivo: {row['Cultivo']}, Parcela: {row['Parcela']},\n",
    "    Fase Productiva: {row['Fase Productiva']}, Cantidad (kg): {row['Cantidad (kg)']}, Precio por kg: {row['Precio por kg']},\n",
    "    Ingresos: {row['Ingresos generados']}, Costos: {row['Costo Total']}, Rentabilidad: {row['Rentabilidad']},\n",
    "    Clima: {row['Clima']}, Demanda de Mercado: {row['Demanda de Mercado']},\n",
    "    Proyección Precio Temporada Siguiente: {row['Proyección Precio Temporada Siguiente']},\n",
    "    Observaciones: {row['Observaciones']}, Línea Productiva: {row['Línea Productiva']}\n",
    "    \"\"\".strip()\n",
    "    documentos.append(texto)\n",
    "\n",
    "# Preparación de los documentos para el RAG\n",
    "docs = [Document(page_content=texto) for texto in documentos]\n",
    "\n",
    "# Vectorización de los documentos con OpenAI\n",
    "embeddings = OpenAIEmbeddings(openai_api_key=openai_api_secret.get_secret_value())"
   ]
  },
  {
   "cell_type": "code",
   "execution_count": 4,
   "id": "d09008d2",
   "metadata": {},
   "outputs": [],
   "source": [
    "vectorstore = Chroma.from_documents(docs, embeddings, persist_directory=\"./chroma_rentabilidad\")"
   ]
  },
  {
   "cell_type": "code",
   "execution_count": 5,
   "id": "3230eb04",
   "metadata": {},
   "outputs": [],
   "source": [
    "# Cargar vectorstore como retriever\n",
    "retriever = vectorstore.as_retriever(search_kwargs={\"k\": 10})\n",
    "\n",
    "# Crear chain de pregunta-respuesta\n",
    "qa_chain = RetrievalQA.from_chain_type(\n",
    "    llm=ChatOpenAI(model_name=\"gpt-4\"),\n",
    "    retriever=retriever,\n",
    "    return_source_documents=True\n",
    ")"
   ]
  },
  {
   "cell_type": "code",
   "execution_count": 6,
   "id": "6745cac0",
   "metadata": {},
   "outputs": [
    {
     "name": "stderr",
     "output_type": "stream",
     "text": [
      "/tmp/ipykernel_96293/1227950309.py:2: LangChainDeprecationWarning: The method `Chain.__call__` was deprecated in langchain 0.1.0 and will be removed in 1.0. Use :meth:`~invoke` instead.\n",
      "  respuesta = qa_chain(pregunta)\n"
     ]
    },
    {
     "data": {
      "text/plain": [
       "{'query': '¿Cual fue la rentabilidad más alta de la Parcela A en 2023?',\n",
       " 'result': 'La rentabilidad más alta de la Parcela A en 2023 fue de 399.54.',\n",
       " 'source_documents': [Document(metadata={}, page_content='Fecha: 2023-04-29 00:00:00, Temporada: 2023-Verano, Cultivo: Trigo, Parcela: Parcela A,\\n    Fase Productiva: Cosecha, Cantidad (kg): 982, Precio por kg: 0.83,\\n    Ingresos: 815.06, Costos: 494, Rentabilidad: 321.06,\\n    Clima: Lluvioso, Demanda de Mercado: Alta,\\n    Proyección Precio Temporada Siguiente: 0.95,\\n    Observaciones: Actividad de cosecha bajo clima lluvioso, relacionado con parcela Parcela A., Línea Productiva: Grano'),\n",
       "  Document(metadata={}, page_content='Fecha: 2023-05-07 00:00:00, Temporada: 2023-Verano, Cultivo: Trigo, Parcela: Parcela A,\\n    Fase Productiva: Mantenimiento, Cantidad (kg): 0, Precio por kg: 0.0,\\n    Ingresos: 0.0, Costos: 334, Rentabilidad: -334.0,\\n    Clima: Lluvioso, Demanda de Mercado: Alta,\\n    Proyección Precio Temporada Siguiente: 0.95,\\n    Observaciones: Actividad de mantenimiento bajo clima lluvioso, relacionado con parcela Parcela A., Línea Productiva: Grano'),\n",
       "  Document(metadata={}, page_content='Fecha: 2023-04-05 00:00:00, Temporada: 2023-Verano, Cultivo: Trigo, Parcela: Parcela A,\\n    Fase Productiva: Cosecha, Cantidad (kg): 743, Precio por kg: 0.78,\\n    Ingresos: 579.54, Costos: 180, Rentabilidad: 399.54,\\n    Clima: Soleado, Demanda de Mercado: Alta,\\n    Proyección Precio Temporada Siguiente: 0.95,\\n    Observaciones: Actividad de cosecha bajo clima soleado, relacionado con parcela Parcela A., Línea Productiva: Grano'),\n",
       "  Document(metadata={}, page_content='Fecha: 2023-03-23 00:00:00, Temporada: 2023-Verano, Cultivo: Trigo, Parcela: Parcela A,\\n    Fase Productiva: Mantenimiento, Cantidad (kg): 0, Precio por kg: 0.0,\\n    Ingresos: 0.0, Costos: 416, Rentabilidad: -416.0,\\n    Clima: Soleado, Demanda de Mercado: Media,\\n    Proyección Precio Temporada Siguiente: 0.95,\\n    Observaciones: Actividad de mantenimiento bajo clima soleado, relacionado con parcela Parcela A., Línea Productiva: Grano'),\n",
       "  Document(metadata={}, page_content='Fecha: 2023-01-07 00:00:00, Temporada: 2023-Verano, Cultivo: Trigo, Parcela: Parcela A,\\n    Fase Productiva: Cosecha, Cantidad (kg): 608, Precio por kg: 1.05,\\n    Ingresos: 638.4, Costos: 458, Rentabilidad: 180.4,\\n    Clima: Soleado, Demanda de Mercado: Alta,\\n    Proyección Precio Temporada Siguiente: 0.95,\\n    Observaciones: Actividad de cosecha bajo clima soleado, relacionado con parcela Parcela A., Línea Productiva: Grano'),\n",
       "  Document(metadata={}, page_content='Fecha: 2023-04-08 00:00:00, Temporada: 2023-Verano, Cultivo: Trigo, Parcela: Parcela A,\\n    Fase Productiva: Cosecha, Cantidad (kg): 472, Precio por kg: 0.76,\\n    Ingresos: 358.72, Costos: 165, Rentabilidad: 193.72,\\n    Clima: Soleado, Demanda de Mercado: Alta,\\n    Proyección Precio Temporada Siguiente: 0.95,\\n    Observaciones: Actividad de cosecha bajo clima soleado, relacionado con parcela Parcela A., Línea Productiva: Grano'),\n",
       "  Document(metadata={}, page_content='Fecha: 2023-03-07 00:00:00, Temporada: 2023-Verano, Cultivo: Maíz, Parcela: Parcela A,\\n    Fase Productiva: Cosecha, Cantidad (kg): 560, Precio por kg: 0.83,\\n    Ingresos: 464.8, Costos: 483, Rentabilidad: -18.2,\\n    Clima: Lluvioso, Demanda de Mercado: Media,\\n    Proyección Precio Temporada Siguiente: 0.85,\\n    Observaciones: Actividad de cosecha bajo clima lluvioso, relacionado con parcela Parcela A., Línea Productiva: Grano'),\n",
       "  Document(metadata={}, page_content='Fecha: 2023-02-23 00:00:00, Temporada: 2023-Verano, Cultivo: Maíz, Parcela: Parcela A,\\n    Fase Productiva: Cosecha, Cantidad (kg): 373, Precio por kg: 0.88,\\n    Ingresos: 328.24, Costos: 190, Rentabilidad: 138.24,\\n    Clima: Soleado, Demanda de Mercado: Baja,\\n    Proyección Precio Temporada Siguiente: 0.85,\\n    Observaciones: Actividad de cosecha bajo clima soleado, relacionado con parcela Parcela A., Línea Productiva: Grano'),\n",
       "  Document(metadata={}, page_content='Fecha: 2023-05-13 00:00:00, Temporada: 2023-Verano, Cultivo: Maíz, Parcela: Parcela A,\\n    Fase Productiva: Siembra, Cantidad (kg): 0, Precio por kg: 0.0,\\n    Ingresos: 0.0, Costos: 429, Rentabilidad: -429.0,\\n    Clima: Soleado, Demanda de Mercado: Alta,\\n    Proyección Precio Temporada Siguiente: 0.85,\\n    Observaciones: Actividad de siembra bajo clima soleado, relacionado con parcela Parcela A., Línea Productiva: Grano'),\n",
       "  Document(metadata={}, page_content='Fecha: 2023-06-13 00:00:00, Temporada: 2023-Verano, Cultivo: Trigo, Parcela: Parcela A,\\n    Fase Productiva: Mantenimiento, Cantidad (kg): 0, Precio por kg: 0.0,\\n    Ingresos: 0.0, Costos: 472, Rentabilidad: -472.0,\\n    Clima: Soleado, Demanda de Mercado: Alta,\\n    Proyección Precio Temporada Siguiente: 0.95,\\n    Observaciones: Actividad de mantenimiento bajo clima soleado, relacionado con parcela Parcela A., Línea Productiva: Grano')]}"
      ]
     },
     "execution_count": 6,
     "metadata": {},
     "output_type": "execute_result"
    }
   ],
   "source": [
    "pregunta = \"¿Cual fue la rentabilidad más alta de la Parcela A en 2023?\"\n",
    "respuesta = qa_chain(pregunta)\n",
    "respuesta"
   ]
  },
  {
   "cell_type": "code",
   "execution_count": 7,
   "id": "92c4d60c",
   "metadata": {},
   "outputs": [
    {
     "data": {
      "text/plain": [
       "{'query': '¿Cual fue la rentabilidad más alta de la Parcela A en 2023?',\n",
       " 'result': 'La rentabilidad más alta de la Parcela A en 2023 fue de 399.54.',\n",
       " 'source_documents': [Document(metadata={}, page_content='Fecha: 2023-04-29 00:00:00, Temporada: 2023-Verano, Cultivo: Trigo, Parcela: Parcela A,\\n    Fase Productiva: Cosecha, Cantidad (kg): 982, Precio por kg: 0.83,\\n    Ingresos: 815.06, Costos: 494, Rentabilidad: 321.06,\\n    Clima: Lluvioso, Demanda de Mercado: Alta,\\n    Proyección Precio Temporada Siguiente: 0.95,\\n    Observaciones: Actividad de cosecha bajo clima lluvioso, relacionado con parcela Parcela A., Línea Productiva: Grano'),\n",
       "  Document(metadata={}, page_content='Fecha: 2023-05-07 00:00:00, Temporada: 2023-Verano, Cultivo: Trigo, Parcela: Parcela A,\\n    Fase Productiva: Mantenimiento, Cantidad (kg): 0, Precio por kg: 0.0,\\n    Ingresos: 0.0, Costos: 334, Rentabilidad: -334.0,\\n    Clima: Lluvioso, Demanda de Mercado: Alta,\\n    Proyección Precio Temporada Siguiente: 0.95,\\n    Observaciones: Actividad de mantenimiento bajo clima lluvioso, relacionado con parcela Parcela A., Línea Productiva: Grano'),\n",
       "  Document(metadata={}, page_content='Fecha: 2023-04-05 00:00:00, Temporada: 2023-Verano, Cultivo: Trigo, Parcela: Parcela A,\\n    Fase Productiva: Cosecha, Cantidad (kg): 743, Precio por kg: 0.78,\\n    Ingresos: 579.54, Costos: 180, Rentabilidad: 399.54,\\n    Clima: Soleado, Demanda de Mercado: Alta,\\n    Proyección Precio Temporada Siguiente: 0.95,\\n    Observaciones: Actividad de cosecha bajo clima soleado, relacionado con parcela Parcela A., Línea Productiva: Grano'),\n",
       "  Document(metadata={}, page_content='Fecha: 2023-03-23 00:00:00, Temporada: 2023-Verano, Cultivo: Trigo, Parcela: Parcela A,\\n    Fase Productiva: Mantenimiento, Cantidad (kg): 0, Precio por kg: 0.0,\\n    Ingresos: 0.0, Costos: 416, Rentabilidad: -416.0,\\n    Clima: Soleado, Demanda de Mercado: Media,\\n    Proyección Precio Temporada Siguiente: 0.95,\\n    Observaciones: Actividad de mantenimiento bajo clima soleado, relacionado con parcela Parcela A., Línea Productiva: Grano'),\n",
       "  Document(metadata={}, page_content='Fecha: 2023-01-07 00:00:00, Temporada: 2023-Verano, Cultivo: Trigo, Parcela: Parcela A,\\n    Fase Productiva: Cosecha, Cantidad (kg): 608, Precio por kg: 1.05,\\n    Ingresos: 638.4, Costos: 458, Rentabilidad: 180.4,\\n    Clima: Soleado, Demanda de Mercado: Alta,\\n    Proyección Precio Temporada Siguiente: 0.95,\\n    Observaciones: Actividad de cosecha bajo clima soleado, relacionado con parcela Parcela A., Línea Productiva: Grano'),\n",
       "  Document(metadata={}, page_content='Fecha: 2023-04-08 00:00:00, Temporada: 2023-Verano, Cultivo: Trigo, Parcela: Parcela A,\\n    Fase Productiva: Cosecha, Cantidad (kg): 472, Precio por kg: 0.76,\\n    Ingresos: 358.72, Costos: 165, Rentabilidad: 193.72,\\n    Clima: Soleado, Demanda de Mercado: Alta,\\n    Proyección Precio Temporada Siguiente: 0.95,\\n    Observaciones: Actividad de cosecha bajo clima soleado, relacionado con parcela Parcela A., Línea Productiva: Grano'),\n",
       "  Document(metadata={}, page_content='Fecha: 2023-03-07 00:00:00, Temporada: 2023-Verano, Cultivo: Maíz, Parcela: Parcela A,\\n    Fase Productiva: Cosecha, Cantidad (kg): 560, Precio por kg: 0.83,\\n    Ingresos: 464.8, Costos: 483, Rentabilidad: -18.2,\\n    Clima: Lluvioso, Demanda de Mercado: Media,\\n    Proyección Precio Temporada Siguiente: 0.85,\\n    Observaciones: Actividad de cosecha bajo clima lluvioso, relacionado con parcela Parcela A., Línea Productiva: Grano'),\n",
       "  Document(metadata={}, page_content='Fecha: 2023-02-23 00:00:00, Temporada: 2023-Verano, Cultivo: Maíz, Parcela: Parcela A,\\n    Fase Productiva: Cosecha, Cantidad (kg): 373, Precio por kg: 0.88,\\n    Ingresos: 328.24, Costos: 190, Rentabilidad: 138.24,\\n    Clima: Soleado, Demanda de Mercado: Baja,\\n    Proyección Precio Temporada Siguiente: 0.85,\\n    Observaciones: Actividad de cosecha bajo clima soleado, relacionado con parcela Parcela A., Línea Productiva: Grano'),\n",
       "  Document(metadata={}, page_content='Fecha: 2023-05-13 00:00:00, Temporada: 2023-Verano, Cultivo: Maíz, Parcela: Parcela A,\\n    Fase Productiva: Siembra, Cantidad (kg): 0, Precio por kg: 0.0,\\n    Ingresos: 0.0, Costos: 429, Rentabilidad: -429.0,\\n    Clima: Soleado, Demanda de Mercado: Alta,\\n    Proyección Precio Temporada Siguiente: 0.85,\\n    Observaciones: Actividad de siembra bajo clima soleado, relacionado con parcela Parcela A., Línea Productiva: Grano'),\n",
       "  Document(metadata={}, page_content='Fecha: 2023-06-13 00:00:00, Temporada: 2023-Verano, Cultivo: Trigo, Parcela: Parcela A,\\n    Fase Productiva: Mantenimiento, Cantidad (kg): 0, Precio por kg: 0.0,\\n    Ingresos: 0.0, Costos: 472, Rentabilidad: -472.0,\\n    Clima: Soleado, Demanda de Mercado: Alta,\\n    Proyección Precio Temporada Siguiente: 0.95,\\n    Observaciones: Actividad de mantenimiento bajo clima soleado, relacionado con parcela Parcela A., Línea Productiva: Grano')]}"
      ]
     },
     "execution_count": 7,
     "metadata": {},
     "output_type": "execute_result"
    }
   ],
   "source": [
    "pregunta = \"¿Cual fue la rentabilidad más alta de la Parcela A en 2023?\"\n",
    "respuesta = qa_chain(pregunta)\n",
    "respuesta"
   ]
  },
  {
   "cell_type": "markdown",
   "id": "13b6825c",
   "metadata": {},
   "source": [
    "# Incorporación de Tools"
   ]
  },
  {
   "cell_type": "code",
   "execution_count": null,
   "metadata": {},
   "outputs": [
    {
     "name": "stderr",
     "output_type": "stream",
     "text": [
      "/tmp/ipykernel_96293/139239859.py:75: LangChainDeprecationWarning: LangChain agents will continue to be supported, but it is recommended for new use cases to be built with LangGraph. LangGraph offers a more flexible and full-featured framework for building agents, including support for tool-calling, persistence of state, and human-in-the-loop workflows. For details, refer to the `LangGraph documentation <https://langchain-ai.github.io/langgraph/>`_ as well as guides for `Migrating from AgentExecutor <https://python.langchain.com/docs/how_to/migrate_agent/>`_ and LangGraph's `Pre-built ReAct agent <https://langchain-ai.github.io/langgraph/how-tos/create-react-agent/>`_.\n",
      "  agent = initialize_agent(\n"
     ]
    }
   ],
   "source": [
    "# import pandas as pd\n",
    "# from dotenv import load_dotenv\n",
    "# from pydantic import SecretStr\n",
    "\n",
    "# from langchain.docstore.document import Document\n",
    "# from langchain.vectorstores import Chroma\n",
    "# from langchain_openai import OpenAIEmbeddings, ChatOpenAI\n",
    "# from langchain.chains import RetrievalQA\n",
    "\n",
    "# from langchain.tools import tool, Tool\n",
    "# from langchain.agents import initialize_agent\n",
    "# from langchain.agents.agent_types import AgentType\n",
    "\n",
    "# from environments import OPENAI_API_KEY\n",
    "\n",
    "# # Validar API Key\n",
    "# if not OPENAI_API_KEY:\n",
    "#     raise ValueError(\"OpenAI Key not found\")\n",
    "# openai_api_secret = SecretStr(OPENAI_API_KEY)\n",
    "\n",
    "# # Cargar el CSV\n",
    "# df = pd.read_csv(\"docs/datos_agricolas_3000_registros.csv\")\n",
    "# df[\"Fecha\"] = pd.to_datetime(df[\"Fecha\"])\n",
    "\n",
    "# # Crear documentos para el RAG\n",
    "# documentos = []\n",
    "# for _, row in df.iterrows():\n",
    "#     texto = f\"\"\"\n",
    "#     Fecha: {row['Fecha']}, Temporada: {row['Temporada']}, Cultivo: {row['Cultivo']}, Parcela: {row['Parcela']},\n",
    "#     Fase Productiva: {row['Fase Productiva']}, Cantidad (kg): {row['Cantidad (kg)']}, Precio por kg: {row['Precio por kg']},\n",
    "#     Ingresos: {row['Ingresos generados']}, Costos: {row['Costo Total']}, Rentabilidad: {row['Rentabilidad']},\n",
    "#     Clima: {row['Clima']}, Demanda de Mercado: {row['Demanda de Mercado']},\n",
    "#     Proyección Precio Temporada Siguiente: {row['Proyección Precio Temporada Siguiente']},\n",
    "#     Observaciones: {row['Observaciones']}, Línea Productiva: {row['Línea Productiva']}\n",
    "#     \"\"\".strip()\n",
    "#     documentos.append(Document(page_content=texto))\n",
    "\n",
    "# # Embeddings y vectorstore\n",
    "# embeddings = OpenAIEmbeddings(openai_api_key=openai_api_secret.get_secret_value())\n",
    "# vectorstore = Chroma.from_documents(documentos, embeddings, persist_directory=\"./chroma_rentabilidad\")\n",
    "# retriever = vectorstore.as_retriever(search_kwargs={\"k\": 10})\n",
    "\n",
    "# Crear RAG chain\n",
    "llm = ChatOpenAI(model_name=\"gpt-4\", temperature=0)\n",
    "qa_chain = RetrievalQA.from_chain_type(\n",
    "    llm=llm,\n",
    "    retriever=retriever,\n",
    "    return_source_documents=True\n",
    ")\n",
    "\n",
    "# 🔧 Tool: Rentabilidad por parcela\n",
    "@tool\n",
    "def rentabilidad_por_parcela(parcela: str, anio: int) -> str:\n",
    "    \"\"\"Calcula la rentabilidad total de una parcela en un año específico.\"\"\"\n",
    "    df = pd.read_csv(\"docs/datos_agricolas_3000_registros.csv\")\n",
    "    df[\"Fecha\"] = pd.to_datetime(df[\"Fecha\"])\n",
    "    \n",
    "    # Normalizar nombre de parcela si es \"A\" → \"Parcela A\"\n",
    "    if not parcela.lower().startswith(\"parcela\"):\n",
    "        parcela = f\"Parcela {parcela.upper()}\"\n",
    "\n",
    "    df_filtrado = df[(df[\"Parcela\"] == parcela) & (df[\"Fecha\"].dt.year == anio)]\n",
    "    total = df_filtrado[\"Rentabilidad\"].sum()\n",
    "    return f\"La rentabilidad total de la parcela {parcela} en {anio} fue de {total:.2f}\"\n",
    "\n",
    "# Tool: RAG como herramienta semántica\n",
    "retriever_tool = Tool(\n",
    "    name=\"consultar_datos_agricolas\",\n",
    "    func=qa_chain.invoke,\n",
    "    description=\"Usa esto para buscar información general del cultivo, clima, observaciones o condiciones de mercado.\"\n",
    ")\n",
    "\n",
    "# Inicializar agente con ambas tools\n",
    "tools = [rentabilidad_por_parcela, retriever_tool]\n",
    "agent = initialize_agent(\n",
    "    tools=tools,\n",
    "    llm=llm,\n",
    "    agent=AgentType.OPENAI_FUNCTIONS,\n",
    "    verbose=True\n",
    ")\n",
    "\n"
   ]
  },
  {
   "cell_type": "code",
   "execution_count": 9,
   "id": "89044a74",
   "metadata": {},
   "outputs": [
    {
     "name": "stdout",
     "output_type": "stream",
     "text": [
      "\n",
      "\n",
      "\u001b[1m> Entering new AgentExecutor chain...\u001b[0m\n",
      "\u001b[32;1m\u001b[1;3m\n",
      "Invoking: `rentabilidad_por_parcela` with `{'parcela': 'Parcela A', 'anio': 2023}`\n",
      "\n",
      "\n",
      "\u001b[0m\u001b[36;1m\u001b[1;3mLa rentabilidad total de la parcela Parcela A en 2023 fue de 6776.89\u001b[0m\u001b[32;1m\u001b[1;3mLa rentabilidad total de la Parcela A en 2023 fue de 6776.89.\u001b[0m\n",
      "\n",
      "\u001b[1m> Finished chain.\u001b[0m\n",
      "Pregunta: ¿Cuál fue la rentabilidad total de la Parcela A en 2023?\n",
      "Respuesta: {'input': '¿Cuál fue la rentabilidad total de la Parcela A en 2023?', 'output': 'La rentabilidad total de la Parcela A en 2023 fue de 6776.89.'}\n"
     ]
    }
   ],
   "source": [
    "# Probar una pregunta\n",
    "pregunta = \"¿Cuál fue la rentabilidad total de la Parcela A en 2023?\"\n",
    "respuesta = agent.invoke(pregunta)\n",
    "\n",
    "# Mostrar la respuesta\n",
    "print(\"Pregunta:\", pregunta)\n",
    "print(\"Respuesta:\", respuesta)\n"
   ]
  },
  {
   "cell_type": "code",
   "execution_count": 10,
   "id": "531687d0",
   "metadata": {},
   "outputs": [
    {
     "name": "stdout",
     "output_type": "stream",
     "text": [
      "\n",
      "\n",
      "\u001b[1m> Entering new AgentExecutor chain...\u001b[0m\n",
      "\u001b[32;1m\u001b[1;3m\n",
      "Invoking: `rentabilidad_por_parcela` with `{'parcela': 'A', 'anio': 2023}`\n",
      "\n",
      "\n",
      "\u001b[0m\u001b[36;1m\u001b[1;3mLa rentabilidad total de la parcela Parcela A en 2023 fue de 6776.89\u001b[0m\u001b[32;1m\u001b[1;3m\n",
      "Invoking: `rentabilidad_por_parcela` with `{'parcela': 'B', 'anio': 2023}`\n",
      "\n",
      "\n",
      "\u001b[0m\u001b[36;1m\u001b[1;3mLa rentabilidad total de la parcela Parcela B en 2023 fue de -14034.90\u001b[0m\u001b[32;1m\u001b[1;3m\n",
      "Invoking: `rentabilidad_por_parcela` with `{'parcela': 'C', 'anio': 2023}`\n",
      "\n",
      "\n",
      "\u001b[0m\u001b[36;1m\u001b[1;3mLa rentabilidad total de la parcela Parcela C en 2023 fue de 34361.80\u001b[0m\u001b[32;1m\u001b[1;3mLa parcela más rentable en 2023 fue la Parcela C con una rentabilidad total de 34361.80.\u001b[0m\n",
      "\n",
      "\u001b[1m> Finished chain.\u001b[0m\n",
      "Pregunta: ¿Cuál fue la parcela más rentable en 2023?\n",
      "Respuesta: {'input': '¿Cuál fue la parcela más rentable en 2023?', 'output': 'La parcela más rentable en 2023 fue la Parcela C con una rentabilidad total de 34361.80.'}\n"
     ]
    }
   ],
   "source": [
    "# Probar una pregunta\n",
    "pregunta = \"¿Cuál fue la parcela más rentable en 2023?\"\n",
    "respuesta = agent.invoke(pregunta)\n",
    "\n",
    "# Mostrar la respuesta\n",
    "print(\"Pregunta:\", pregunta)\n",
    "print(\"Respuesta:\", respuesta)\n"
   ]
  }
 ],
 "metadata": {
  "kernelspec": {
   "display_name": "venv",
   "language": "python",
   "name": "python3"
  },
  "language_info": {
   "codemirror_mode": {
    "name": "ipython",
    "version": 3
   },
   "file_extension": ".py",
   "mimetype": "text/x-python",
   "name": "python",
   "nbconvert_exporter": "python",
   "pygments_lexer": "ipython3",
   "version": "3.10.12"
  }
 },
 "nbformat": 4,
 "nbformat_minor": 5
}
